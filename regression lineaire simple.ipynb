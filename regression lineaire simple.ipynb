{
 "cells": [
  {
   "cell_type": "code",
   "execution_count": 233,
   "metadata": {},
   "outputs": [],
   "source": [
    "import numpy as np\n",
    "import matplotlib.pyplot as plt"
   ]
  },
  {
   "cell_type": "markdown",
   "metadata": {},
   "source": [
    "1- DataSets :"
   ]
  },
  {
   "cell_type": "code",
   "execution_count": 234,
   "metadata": {},
   "outputs": [],
   "source": [
    "from sklearn.datasets import make_regression"
   ]
  },
  {
   "cell_type": "code",
   "execution_count": 235,
   "metadata": {},
   "outputs": [
    {
     "data": {
      "text/plain": [
       "<matplotlib.collections.PathCollection at 0x17293343910>"
      ]
     },
     "execution_count": 235,
     "metadata": {},
     "output_type": "execute_result"
    },
    {
     "data": {
      "image/png": "[encoded data removed]",
      "text/plain": [
       "<Figure size 432x288 with 1 Axes>"
      ]
     },
     "metadata": {
      "needs_background": "light"
     },
     "output_type": "display_data"
    }
   ],
   "source": [
    "x,y = make_regression(n_samples=100, n_features=1, noise=15)\n",
    "y=y.reshape(x.shape)\n",
    "plt.scatter(x,y)"
   ]
  },
  {
   "cell_type": "code",
   "execution_count": 236,
   "metadata": {},
   "outputs": [
    {
     "data": {
      "text/plain": [
       "array([[-1.32692789,  1.        ],\n",
       "       [ 0.2363756 ,  1.        ],\n",
       "       [-1.68239418,  1.        ],\n",
       "       [ 1.44992444,  1.        ],\n",
       "       [ 1.68662229,  1.        ],\n",
       "       [-0.71918099,  1.        ],\n",
       "       [-0.56671849,  1.        ],\n",
       "       [ 0.52483236,  1.        ],\n",
       "       [ 0.21338852,  1.        ],\n",
       "       [-1.05548381,  1.        ],\n",
       "       [ 0.37180829,  1.        ],\n",
       "       [-0.09046971,  1.        ],\n",
       "       [ 0.35462321,  1.        ],\n",
       "       [ 0.25727955,  1.        ],\n",
       "       [ 0.27423644,  1.        ],\n",
       "       [ 0.97796733,  1.        ],\n",
       "       [-0.764393  ,  1.        ],\n",
       "       [ 1.84700736,  1.        ],\n",
       "       [-0.51878494,  1.        ],\n",
       "       [-2.59257637,  1.        ],\n",
       "       [-0.99166057,  1.        ],\n",
       "       [-1.31819672,  1.        ],\n",
       "       [-0.03497801,  1.        ],\n",
       "       [-0.87779609,  1.        ],\n",
       "       [ 0.41209743,  1.        ],\n",
       "       [-0.98930178,  1.        ],\n",
       "       [-0.35265371,  1.        ],\n",
       "       [ 1.30765677,  1.        ],\n",
       "       [ 0.25604895,  1.        ],\n",
       "       [-0.80722536,  1.        ],\n",
       "       [ 0.84436423,  1.        ],\n",
       "       [ 0.56079661,  1.        ],\n",
       "       [-1.03189323,  1.        ],\n",
       "       [ 1.00271139,  1.        ],\n",
       "       [-0.47506011,  1.        ],\n",
       "       [-0.35873952,  1.        ],\n",
       "       [ 1.17413864,  1.        ],\n",
       "       [ 0.22827256,  1.        ],\n",
       "       [ 0.31613234,  1.        ],\n",
       "       [-0.76200577,  1.        ],\n",
       "       [ 0.59087256,  1.        ],\n",
       "       [ 1.48326748,  1.        ],\n",
       "       [ 0.19795329,  1.        ],\n",
       "       [-0.27138565,  1.        ],\n",
       "       [-0.57454977,  1.        ],\n",
       "       [-0.40290491,  1.        ],\n",
       "       [-0.15870981,  1.        ],\n",
       "       [-0.25377089,  1.        ],\n",
       "       [-2.06238412,  1.        ],\n",
       "       [ 1.46222377,  1.        ],\n",
       "       [ 0.02287876,  1.        ],\n",
       "       [ 0.27061077,  1.        ],\n",
       "       [-1.27280877,  1.        ],\n",
       "       [-1.0785113 ,  1.        ],\n",
       "       [ 0.43983471,  1.        ],\n",
       "       [ 0.97931187,  1.        ],\n",
       "       [ 0.66367285,  1.        ],\n",
       "       [ 0.51750433,  1.        ],\n",
       "       [ 1.82395606,  1.        ],\n",
       "       [ 0.90586938,  1.        ],\n",
       "       [ 0.99845129,  1.        ],\n",
       "       [-0.14226272,  1.        ],\n",
       "       [-2.47496611,  1.        ],\n",
       "       [-0.17131252,  1.        ],\n",
       "       [-1.31373802,  1.        ],\n",
       "       [-0.19570647,  1.        ],\n",
       "       [ 2.11409441,  1.        ],\n",
       "       [-1.08828064,  1.        ],\n",
       "       [-2.33515148,  1.        ],\n",
       "       [ 0.06504033,  1.        ],\n",
       "       [ 0.35785978,  1.        ],\n",
       "       [ 0.33978715,  1.        ],\n",
       "       [-1.3196205 ,  1.        ],\n",
       "       [ 0.12697349,  1.        ],\n",
       "       [-0.8122704 ,  1.        ],\n",
       "       [ 0.90029653,  1.        ],\n",
       "       [ 1.44780943,  1.        ],\n",
       "       [-0.16625373,  1.        ],\n",
       "       [ 0.22032184,  1.        ],\n",
       "       [ 0.52766667,  1.        ],\n",
       "       [-0.28354959,  1.        ],\n",
       "       [ 1.04256507,  1.        ],\n",
       "       [-0.57592963,  1.        ],\n",
       "       [ 1.29667425,  1.        ],\n",
       "       [ 0.32821521,  1.        ],\n",
       "       [-1.73728047,  1.        ],\n",
       "       [ 2.52567736,  1.        ],\n",
       "       [ 0.13398864,  1.        ],\n",
       "       [ 0.17553808,  1.        ],\n",
       "       [-1.21914521,  1.        ],\n",
       "       [-1.74240984,  1.        ],\n",
       "       [-2.25411184,  1.        ],\n",
       "       [ 0.00540688,  1.        ],\n",
       "       [-1.50697556,  1.        ],\n",
       "       [-0.8454131 ,  1.        ],\n",
       "       [ 0.99503722,  1.        ],\n",
       "       [ 0.03573521,  1.        ],\n",
       "       [-0.1945763 ,  1.        ],\n",
       "       [-1.19004973,  1.        ],\n",
       "       [ 0.15471232,  1.        ]])"
      ]
     },
     "execution_count": 236,
     "metadata": {},
     "output_type": "execute_result"
    }
   ],
   "source": [
    "#matrix X\n",
    "X = np.hstack((x, np.ones(x.shape)))\n",
    "X"
   ]
  },
  {
   "cell_type": "code",
   "execution_count": 237,
   "metadata": {},
   "outputs": [
    {
     "data": {
      "text/plain": [
       "array([[-0.00301264],\n",
       "       [-0.13811135]])"
      ]
     },
     "execution_count": 237,
     "metadata": {},
     "output_type": "execute_result"
    }
   ],
   "source": [
    "#Vector theta\n",
    "\n",
    "theta = np.random.randn(2,1)\n",
    "theta"
   ]
  },
  {
   "cell_type": "markdown",
   "metadata": {},
   "source": [
    "Model"
   ]
  },
  {
   "cell_type": "code",
   "execution_count": 238,
   "metadata": {},
   "outputs": [],
   "source": [
    "def model(X, theta):\n",
    "    return X.dot(theta)"
   ]
  },
  {
   "cell_type": "code",
   "execution_count": 239,
   "metadata": {},
   "outputs": [
    {
     "data": {
      "text/plain": [
       "[<matplotlib.lines.Line2D at 0x172933a9e40>]"
      ]
     },
     "execution_count": 239,
     "metadata": {},
     "output_type": "execute_result"
    },
    {
     "data": {
      "image/png": "[encoded data removed]",
      "text/plain": [
       "<Figure size 432x288 with 1 Axes>"
      ]
     },
     "metadata": {
      "needs_background": "light"
     },
     "output_type": "display_data"
    }
   ],
   "source": [
    "plt.scatter(x,y)\n",
    "plt.plot(x,model(X, theta), c=\"r\")"
   ]
  },
  {
   "cell_type": "markdown",
   "metadata": {},
   "source": [
    "# Cost function (fonction de cout)"
   ]
  },
  {
   "cell_type": "code",
   "execution_count": 240,
   "metadata": {},
   "outputs": [],
   "source": [
    "def cost_function(X,theta, y):\n",
    "    m=len(y)\n",
    "    return 1/(2*m) * ((model(X, theta) - y)**2).sum()"
   ]
  },
  {
   "cell_type": "code",
   "execution_count": 241,
   "metadata": {},
   "outputs": [
    {
     "data": {
      "text/plain": [
       "4252.774375164506"
      ]
     },
     "execution_count": 241,
     "metadata": {},
     "output_type": "execute_result"
    }
   ],
   "source": [
    "cost_function(X, theta, y)"
   ]
  },
  {
   "cell_type": "markdown",
   "metadata": {},
   "source": [
    "Gradient et descente de gradient :"
   ]
  },
  {
   "cell_type": "code",
   "execution_count": 242,
   "metadata": {},
   "outputs": [],
   "source": [
    "def grad(X, y, theta) :\n",
    "    m=len(y)\n",
    "    return 1/m * ( X.T.dot( model(X, theta) - y) )"
   ]
  },
  {
   "cell_type": "code",
   "execution_count": 243,
   "metadata": {},
   "outputs": [
    {
     "data": {
      "text/plain": [
       "(2, 1)"
      ]
     },
     "execution_count": 243,
     "metadata": {},
     "output_type": "execute_result"
    }
   ],
   "source": [
    "grad(X, y, theta).shape"
   ]
  },
  {
   "cell_type": "code",
   "execution_count": 244,
   "metadata": {},
   "outputs": [],
   "source": [
    "# learning_rate = alpha\n",
    "def gradient_descent(X, y,theta, learning_rate, n_iterations):\n",
    "    cost_history=[]\n",
    "    for i in range(n_iterations):\n",
    "        theta = theta - learning_rate * grad(X,y, theta)\n",
    "        cost_history.append(cost_function(X,theta=theta, y=y))\n",
    "\n",
    "    return theta, cost_history"
   ]
  },
  {
   "cell_type": "markdown",
   "metadata": {},
   "source": [
    "# Maching learnin !"
   ]
  },
  {
   "cell_type": "code",
   "execution_count": 245,
   "metadata": {},
   "outputs": [
    {
     "data": {
      "text/plain": [
       "array([[87.04248474],\n",
       "       [-1.43501058]])"
      ]
     },
     "execution_count": 245,
     "metadata": {},
     "output_type": "execute_result"
    }
   ],
   "source": [
    "theta_final , cost_history= gradient_descent(X, y, theta, learning_rate=0.01, n_iterations=1000)\n",
    "theta_final"
   ]
  },
  {
   "cell_type": "code",
   "execution_count": 246,
   "metadata": {},
   "outputs": [
    {
     "data": {
      "text/plain": [
       "[<matplotlib.lines.Line2D at 0x172934286a0>]"
      ]
     },
     "execution_count": 246,
     "metadata": {},
     "output_type": "execute_result"
    },
    {
     "data": {
      "image/png": "[encoded data removed]",
      "text/plain": [
       "<Figure size 432x288 with 1 Axes>"
      ]
     },
     "metadata": {
      "needs_background": "light"
     },
     "output_type": "display_data"
    }
   ],
   "source": [
    "prediction = model(X, theta_final)\n",
    "\n",
    "plt.scatter(x,y)\n",
    "plt.plot(x, prediction, c='r')"
   ]
  },
  {
   "cell_type": "code",
   "execution_count": 247,
   "metadata": {},
   "outputs": [
    {
     "data": {
      "text/plain": [
       "[<matplotlib.lines.Line2D at 0x1729346a530>]"
      ]
     },
     "execution_count": 247,
     "metadata": {},
     "output_type": "execute_result"
    },
    {
     "data": {
      "image/png": "[encoded data removed]",
      "text/plain": [
       "<Figure size 432x288 with 1 Axes>"
      ]
     },
     "metadata": {
      "needs_background": "light"
     },
     "output_type": "display_data"
    }
   ],
   "source": [
    "plt.plot(np.arange(len(cost_history)), cost_history)"
   ]
  },
  {
   "cell_type": "markdown",
   "metadata": {},
   "source": [
    "Coefficient de determiniation :"
   ]
  },
  {
   "cell_type": "code",
   "execution_count": 248,
   "metadata": {},
   "outputs": [],
   "source": [
    "def coef_determination(y, pred):\n",
    "    u=((y-pred)**2).sum()\n",
    "    v=((y-y.mean())**2).sum()\n",
    "\n",
    "    return 1- u/v"
   ]
  },
  {
   "cell_type": "code",
   "execution_count": 249,
   "metadata": {},
   "outputs": [
    {
     "data": {
      "text/plain": [
       "0.9752090603281036"
      ]
     },
     "execution_count": 249,
     "metadata": {},
     "output_type": "execute_result"
    }
   ],
   "source": [
    "coef_determination(y, prediction)"
   ]
  }
 ],
 "metadata": {
  "interpreter": {
   "hash": "5d240ba0dc525c389faa33f5dcce5b4f32b6d6aa6d70d6d2dd929bd2b09ab69f"
  },
  "kernelspec": {
   "display_name": "Python 3.10.2 64-bit",
   "language": "python",
   "name": "python3"
  },
  "language_info": {
   "codemirror_mode": {
    "name": "ipython",
    "version": 3
   },
   "file_extension": ".py",
   "mimetype": "text/x-python",
   "name": "python",
   "nbconvert_exporter": "python",
   "pygments_lexer": "ipython3",
   "version": "3.10.2"
  },
  "orig_nbformat": 4
 },
 "nbformat": 4,
 "nbformat_minor": 2
}
